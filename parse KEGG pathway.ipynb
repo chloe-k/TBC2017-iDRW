{
 "cells": [
  {
   "cell_type": "code",
   "execution_count": 1,
   "metadata": {},
   "outputs": [
    {
     "name": "stdout",
     "output_type": "stream",
     "text": [
      "Requirement already satisfied: BeautifulSoup4 in /usr/local/lib/python2.7/site-packages\n",
      "Requirement already satisfied: lxml in /usr/local/lib/python2.7/site-packages\n"
     ]
    }
   ],
   "source": [
    "!pip2 install BeautifulSoup4\n",
    "!pip install lxml"
   ]
  },
  {
   "cell_type": "code",
   "execution_count": 9,
   "metadata": {
    "collapsed": true
   },
   "outputs": [],
   "source": [
    "from bs4 import BeautifulSoup\n",
    "import requests"
   ]
  },
  {
   "cell_type": "code",
   "execution_count": 48,
   "metadata": {},
   "outputs": [
    {
     "name": "stdout",
     "output_type": "stream",
     "text": [
      "['hsa04320', 'hsa04972', 'hsa04722', 'hsa05020', 'hsa00670', 'hsa00592', 'hsa00620', 'hsa03320', 'hsa04660', 'hsa04510', 'hsa03010', 'hsa05214', 'hsa04711', 'hsa00960']\n"
     ]
    }
   ],
   "source": [
    "with open(\"SDA.tsv\", \"r\") as inp:\n",
    "    kegg_id = [ \"hsa%05d\"%int(x.strip().split()[0]) for x in inp.readlines()[1:]]\n",
    "    \n",
    "print(kegg_id)\n",
    "\n",
    "for cur_id in kegg_id:\n",
    "    link = \"http://www.kegg.jp/kegg-bin/download?entry={}&format=kgml\".format(cur_id)\n",
    "    r = requests.get(link)\n",
    "    with open(\"kegg_db/{}.kgml\".format(cur_id), \"w\") as oup:\n",
    "        oup.write(r.text)"
   ]
  },
  {
   "cell_type": "code",
   "execution_count": 19,
   "metadata": {
    "collapsed": true
   },
   "outputs": [],
   "source": [
    "with open(\"kegg_db/hsa00592.xml\", \"r\") as inp:\n",
    "    contents = inp.read()"
   ]
  },
  {
   "cell_type": "code",
   "execution_count": 20,
   "metadata": {
    "collapsed": true
   },
   "outputs": [],
   "source": [
    "bs = BeautifulSoup(contents)"
   ]
  },
  {
   "cell_type": "code",
   "execution_count": 21,
   "metadata": {},
   "outputs": [
    {
     "name": "stdout",
     "output_type": "stream",
     "text": [
      "('http://www.genome.jp/dbget-bin/www_bget?hsa:51',)\n",
      "200\n",
      "('http://www.genome.jp/dbget-bin/www_bget?hsa:8310',)\n",
      "200\n",
      "('http://www.genome.jp/dbget-bin/www_bget?hsa:51',)\n",
      "200\n",
      "('http://www.genome.jp/dbget-bin/www_bget?hsa:8310',)\n",
      "200\n",
      "('http://www.genome.jp/dbget-bin/www_bget?hsa:30',)\n",
      "200\n",
      "('http://www.genome.jp/dbget-bin/www_bget?hsa:30',)\n",
      "200\n",
      "('http://www.genome.jp/dbget-bin/www_bget?hsa:30',)\n",
      "200\n",
      "('http://www.genome.jp/dbget-bin/www_bget?hsa:51',)\n",
      "200\n",
      "('http://www.genome.jp/dbget-bin/www_bget?hsa:8310',)\n",
      "200\n",
      "('http://www.genome.jp/dbget-bin/www_bget?hsa:100137049',)\n",
      "200\n",
      "('http://www.genome.jp/dbget-bin/www_bget?hsa:11145',)\n",
      "200\n",
      "('http://www.genome.jp/dbget-bin/www_bget?hsa:123745',)\n",
      "200\n",
      "('http://www.genome.jp/dbget-bin/www_bget?hsa:151056',)\n",
      "200\n",
      "('http://www.genome.jp/dbget-bin/www_bget?hsa:255189',)\n",
      "200\n",
      "('http://www.genome.jp/dbget-bin/www_bget?hsa:26279',)\n",
      "200\n",
      "('http://www.genome.jp/dbget-bin/www_bget?hsa:283748',)\n",
      "200\n",
      "('http://www.genome.jp/dbget-bin/www_bget?hsa:30814',)\n",
      "200\n",
      "('http://www.genome.jp/dbget-bin/www_bget?hsa:391013',)\n",
      "200\n",
      "('http://www.genome.jp/dbget-bin/www_bget?hsa:50487',)\n",
      "200\n",
      "('http://www.genome.jp/dbget-bin/www_bget?hsa:5319',)\n",
      "200\n",
      "('http://www.genome.jp/dbget-bin/www_bget?hsa:5320',)\n",
      "200\n",
      "('http://www.genome.jp/dbget-bin/www_bget?hsa:5321',)\n",
      "200\n",
      "('http://www.genome.jp/dbget-bin/www_bget?hsa:5322',)\n",
      "200\n",
      "('http://www.genome.jp/dbget-bin/www_bget?hsa:64600',)\n",
      "200\n",
      "('http://www.genome.jp/dbget-bin/www_bget?hsa:81579',)\n",
      "200\n",
      "('http://www.genome.jp/dbget-bin/www_bget?hsa:8398',)\n",
      "200\n",
      "('http://www.genome.jp/dbget-bin/www_bget?hsa:8399',)\n",
      "200\n",
      "('http://www.genome.jp/dbget-bin/www_bget?hsa:84647',)\n",
      "200\n",
      "('http://www.genome.jp/dbget-bin/www_bget?hsa:8605',)\n",
      "200\n",
      "('http://www.genome.jp/dbget-bin/www_bget?hsa:8681',)\n",
      "200\n",
      "('http://www.genome.jp/dbget-bin/www_bget?hsa:9415',)\n",
      "200\n",
      "('http://www.genome.jp/dbget-bin/www_bget?hsa:11145',)\n",
      "200\n"
     ]
    }
   ],
   "source": [
    "from collections import defaultdict\n",
    "gene = defaultdict(list)\n",
    "for entry in bs.find_all('entry'):\n",
    "    if entry['type'] == \"gene\":\n",
    "        for hsa_id in entry[\"name\"].split():\n",
    "            link = \"http://www.genome.jp/dbget-bin/www_bget?{}\".format(hsa_id)\n",
    "            print(link, )\n",
    "            r = requests.get(link)\n",
    "            print(r.status_code)\n",
    "            cur_bs = BeautifulSoup(r.text, \"html5lib\")\n",
    "            for a in cur_bs.find_all('a'):\n",
    "                if a.has_key(\"href\") and \"genenames\" in a[\"href\"]:\n",
    "                    gene[entry['id']].append(a.text)"
   ]
  },
  {
   "cell_type": "code",
   "execution_count": 22,
   "metadata": {},
   "outputs": [
    {
     "data": {
      "text/plain": [
       "9"
      ]
     },
     "execution_count": 22,
     "metadata": {},
     "output_type": "execute_result"
    }
   ],
   "source": [
    "len(gene)"
   ]
  },
  {
   "cell_type": "code",
   "execution_count": 23,
   "metadata": {
    "collapsed": true
   },
   "outputs": [],
   "source": [
    "gene_int = dict()\n",
    "for g in gene:\n",
    "    gene_int[int(g)] = map(int, gene[g])"
   ]
  },
  {
   "cell_type": "code",
   "execution_count": 24,
   "metadata": {
    "collapsed": true
   },
   "outputs": [],
   "source": [
    "hgnc = dict()\n",
    "with open(\"hgnc_to_symbol.tsv\", \"r\") as inp:\n",
    "    for line in inp.readlines()[1:]:\n",
    "        hgnc_id, hgnc_sym = line.strip().split()\n",
    "        hgnc_id = int(hgnc_id)\n",
    "        hgnc[hgnc_id] = hgnc_sym"
   ]
  },
  {
   "cell_type": "code",
   "execution_count": 39,
   "metadata": {},
   "outputs": [],
   "source": [
    "edges = []\n",
    "for link in bs.find_all(\"relation\"):\n",
    "    e1 = int(link[\"entry1\"])\n",
    "    e2 = int(link[\"entry2\"])\n",
    "    type = str(link[\"type\"])\n",
    "    if e1 in gene_int and e2 in gene_int:\n",
    "        for g1 in gene_int[e1]:\n",
    "            for g2 in gene_int[e2]:\n",
    "                edges.append(\"\\t\".join([hgnc[g1], hgnc[g2], type]))"
   ]
  },
  {
   "cell_type": "code",
   "execution_count": 40,
   "metadata": {
    "collapsed": true
   },
   "outputs": [],
   "source": [
    "nodes = set()\n",
    "for n in gene_int:\n",
    "    for x in gene_int[n]:\n",
    "        nodes.add(hgnc[x])"
   ]
  },
  {
   "cell_type": "code",
   "execution_count": 41,
   "metadata": {
    "collapsed": true
   },
   "outputs": [],
   "source": [
    "edges = sorted(list(set(edges)))"
   ]
  },
  {
   "cell_type": "code",
   "execution_count": 42,
   "metadata": {},
   "outputs": [
    {
     "data": {
      "text/plain": [
       "24"
      ]
     },
     "execution_count": 42,
     "metadata": {},
     "output_type": "execute_result"
    }
   ],
   "source": [
    "len(edges)"
   ]
  },
  {
   "cell_type": "code",
   "execution_count": 31,
   "metadata": {},
   "outputs": [],
   "source": [
    "hgnc = dict()\n",
    "with open(\"mart_export.txt\", \"r\") as inp:\n",
    "    for line in inp.readlines()[1:]:\n",
    "        #hgnc_id, hgnc_sym = line.strip().split()\n",
    "        hgnc_sym, hgnc_id = line.strip().split()\n",
    "        hgnc_id = int(hgnc_id)\n",
    "        hgnc[hgnc_id] = hgnc_sym"
   ]
  },
  {
   "cell_type": "code",
   "execution_count": 43,
   "metadata": {
    "collapsed": true
   },
   "outputs": [],
   "source": [
    "with open(\"hsa05224_node.txt\", \"w\") as oup:\n",
    "    print >> oup, \"\\n\".join(sorted(nodes))"
   ]
  },
  {
   "cell_type": "code",
   "execution_count": 46,
   "metadata": {},
   "outputs": [
    {
     "data": {
      "text/plain": [
       "['ACOX1\\tACAA1\\tECrel',\n",
       " 'ACOX3\\tACAA1\\tECrel',\n",
       " 'FADS2\\tPLA2G16\\tECrel',\n",
       " 'JMJD7-PLA2G4B\\tFADS2\\tECrel',\n",
       " 'PLA2G10\\tFADS2\\tECrel',\n",
       " 'PLA2G12A\\tFADS2\\tECrel',\n",
       " 'PLA2G12B\\tFADS2\\tECrel',\n",
       " 'PLA2G16\\tFADS2\\tECrel',\n",
       " 'PLA2G1B\\tFADS2\\tECrel',\n",
       " 'PLA2G2A\\tFADS2\\tECrel',\n",
       " 'PLA2G2C\\tFADS2\\tECrel',\n",
       " 'PLA2G2D\\tFADS2\\tECrel',\n",
       " 'PLA2G2E\\tFADS2\\tECrel',\n",
       " 'PLA2G2F\\tFADS2\\tECrel',\n",
       " 'PLA2G3\\tFADS2\\tECrel',\n",
       " 'PLA2G4A\\tFADS2\\tECrel',\n",
       " 'PLA2G4B\\tFADS2\\tECrel',\n",
       " 'PLA2G4C\\tFADS2\\tECrel',\n",
       " 'PLA2G4D\\tFADS2\\tECrel',\n",
       " 'PLA2G4E\\tFADS2\\tECrel',\n",
       " 'PLA2G4F\\tFADS2\\tECrel',\n",
       " 'PLA2G5\\tFADS2\\tECrel',\n",
       " 'PLA2G6\\tFADS2\\tECrel',\n",
       " 'PLB1\\tFADS2\\tECrel']"
      ]
     },
     "execution_count": 46,
     "metadata": {},
     "output_type": "execute_result"
    }
   ],
   "source": [
    "with open(\"hsa05224_edge.txt\", \"w\") as oup:\n",
    "    print >> oup, \"\\n\".join(sorted(edges))\n",
    "    \n",
    "edges"
   ]
  },
  {
   "cell_type": "code",
   "execution_count": 37,
   "metadata": {},
   "outputs": [],
   "source": [
    "import glob\n",
    "import fetch"
   ]
  },
  {
   "cell_type": "code",
   "execution_count": 47,
   "metadata": {},
   "outputs": [
    {
     "name": "stdout",
     "output_type": "stream",
     "text": [
      "fetching kegg_db/hsa00592.xml\n",
      "fetching kegg_db/hsa00620.xml\n",
      "fetching kegg_db/hsa00670.xml\n",
      "fetching kegg_db/hsa00960.xml\n",
      "fetching kegg_db/hsa03010.xml\n",
      "fetching kegg_db/hsa03320.xml\n",
      "fetching kegg_db/hsa04320.xml\n",
      "fetching kegg_db/hsa04510.xml\n",
      "fetching kegg_db/hsa04660.xml\n",
      "fetching kegg_db/hsa04711.xml\n",
      "fetching kegg_db/hsa04722.xml\n",
      "fetching kegg_db/hsa04972.xml\n",
      "fetching kegg_db/hsa05020.xml\n",
      "fetching kegg_db/hsa05214.xml\n"
     ]
    }
   ],
   "source": [
    "reload(fetch)\n",
    "\n",
    "for x in glob.glob(\"kegg_db/*.xml\"):\n",
    "    fetch.fetch(x)"
   ]
  },
  {
   "cell_type": "code",
   "execution_count": null,
   "metadata": {
    "collapsed": true
   },
   "outputs": [],
   "source": []
  }
 ],
 "metadata": {
  "kernelspec": {
   "display_name": "Python 2",
   "language": "python",
   "name": "python2"
  },
  "language_info": {
   "codemirror_mode": {
    "name": "ipython",
    "version": 2
   },
   "file_extension": ".py",
   "mimetype": "text/x-python",
   "name": "python",
   "nbconvert_exporter": "python",
   "pygments_lexer": "ipython2",
   "version": "2.7.13"
  }
 },
 "nbformat": 4,
 "nbformat_minor": 2
}
